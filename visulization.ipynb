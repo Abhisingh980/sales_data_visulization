{
 "cells": [
  {
   "cell_type": "code",
   "execution_count": 4,
   "id": "0257cee2-481b-48bb-85f6-57530cca6488",
   "metadata": {},
   "outputs": [],
   "source": [
    "import pandas as pd\n",
    "import os"
   ]
  },
  {
   "cell_type": "code",
   "execution_count": 9,
   "id": "a2e76f04-d51c-499b-ae0f-c2f89f9ef762",
   "metadata": {},
   "outputs": [
    {
     "data": {
      "text/plain": [
       "(186850, 6)"
      ]
     },
     "execution_count": 9,
     "metadata": {},
     "output_type": "execute_result"
    }
   ],
   "source": [
    "# loadd all file from directory on editor\n",
    "\n",
    "file_name = [file for file in os.listdir('SalesAnalysis/Sales_Data/')]\n",
    "\n",
    "mearge_df = pd.DataFrame()\n",
    "\n",
    "for l in file_name:\n",
    "    df = pd.read_csv(f'SalesAnalysis/Sales_Data/{l}')\n",
    "    mearge_df = pd.concat([mearge_df,df])\n",
    "    \n",
    "\n",
    "mearge_df.shape"
   ]
  }
 ],
 "metadata": {
  "kernelspec": {
   "display_name": "Python 3 (ipykernel)",
   "language": "python",
   "name": "python3"
  },
  "language_info": {
   "codemirror_mode": {
    "name": "ipython",
    "version": 3
   },
   "file_extension": ".py",
   "mimetype": "text/x-python",
   "name": "python",
   "nbconvert_exporter": "python",
   "pygments_lexer": "ipython3",
   "version": "3.10.6"
  }
 },
 "nbformat": 4,
 "nbformat_minor": 5
}
